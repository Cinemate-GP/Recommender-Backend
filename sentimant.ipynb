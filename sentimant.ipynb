{
 "cells": [
  {
   "cell_type": "code",
   "execution_count": 9,
   "id": "1eea24eb",
   "metadata": {},
   "outputs": [],
   "source": [
    "import pandas as pd\n",
    "import string\n",
    "import re\n",
    "import nltk\n",
    "import os\n",
    "from nltk.corpus import stopwords\n",
    "from nltk.tokenize import word_tokenize\n",
    "from nltk.stem import WordNetLemmatizer\n",
    "from sklearn.feature_extraction.text import TfidfVectorizer\n",
    "from sklearn.model_selection import train_test_split, cross_val_score, GridSearchCV\n",
    "from sklearn.svm import SVC\n",
    "from sklearn.naive_bayes import MultinomialNB\n",
    "from sklearn.linear_model import LogisticRegression\n",
    "from sklearn.metrics import accuracy_score, classification_report\n",
    "import joblib\n",
    "import numpy as np"
   ]
  },
  {
   "cell_type": "code",
   "execution_count": 10,
   "id": "e82fc3d6",
   "metadata": {},
   "outputs": [
    {
     "name": "stdout",
     "output_type": "stream",
     "text": [
      "NLTK data directory: C:\\Users\\Ziad\\nltk_data\n",
      "punkt exists: True\n",
      "stopwords exists: True\n",
      "wordnet exists: False\n",
      "punkt_tab exists: True\n"
     ]
    },
    {
     "name": "stderr",
     "output_type": "stream",
     "text": [
      "[nltk_data] Downloading package punkt to C:\\Users\\Ziad\\nltk_data...\n",
      "[nltk_data]   Package punkt is already up-to-date!\n",
      "[nltk_data] Downloading package stopwords to\n",
      "[nltk_data]     C:\\Users\\Ziad\\nltk_data...\n",
      "[nltk_data]   Package stopwords is already up-to-date!\n",
      "[nltk_data] Downloading package wordnet to C:\\Users\\Ziad\\nltk_data...\n",
      "[nltk_data]   Package wordnet is already up-to-date!\n"
     ]
    }
   ],
   "source": [
    "nltk_data_dir = os.path.join(os.path.expanduser(\"~\"), \"nltk_data\")\n",
    "os.makedirs(nltk_data_dir, exist_ok=True)\n",
    "nltk.download('punkt', download_dir=nltk_data_dir)\n",
    "nltk.download('stopwords', download_dir=nltk_data_dir)\n",
    "nltk.download('wordnet', download_dir=nltk_data_dir)\n",
    "\n",
    "print(f\"NLTK data directory: {nltk_data_dir}\")\n",
    "print(f\"punkt exists: {os.path.exists(os.path.join(nltk_data_dir, 'tokenizers', 'punkt'))}\")\n",
    "print(f\"stopwords exists: {os.path.exists(os.path.join(nltk_data_dir, 'corpora', 'stopwords'))}\")\n",
    "print(f\"wordnet exists: {os.path.exists(os.path.join(nltk_data_dir, 'corpora', 'wordnet'))}\")\n",
    "print(f\"punkt_tab exists: {os.path.exists(os.path.join(nltk_data_dir, 'tokenizers', 'punkt_tab'))}\")"
   ]
  },
  {
   "cell_type": "code",
   "execution_count": 11,
   "id": "d69214fa",
   "metadata": {},
   "outputs": [
    {
     "name": "stdout",
     "output_type": "stream",
     "text": [
      "File found!\n",
      "   sentiment                                             review\n",
      "0          1            The Da Vinci Code book is just awesome.\n",
      "1          1  this was the first clive cussler i've ever rea...\n",
      "2          1                   i liked the Da Vinci Code a lot.\n",
      "3          1                   i liked the Da Vinci Code a lot.\n",
      "4          1  I liked the Da Vinci Code but it ultimatly did...\n"
     ]
    }
   ],
   "source": [
    "file_path = r\"D:\\Courses\\GP-Cinemate\\ML\\machine-learning-dev\\preprocessing\\reviews.txt\"\n",
    "if os.path.exists(file_path):\n",
    "    print(\"File found!\")\n",
    "    data = pd.read_csv(file_path, sep='\\t', header=None, names=['sentiment', 'review'])\n",
    "    print(data.head())\n",
    "else:\n",
    "    print(\"File not found at:\", file_path)"
   ]
  },
  {
   "cell_type": "code",
   "execution_count": 12,
   "id": "c3b3908e",
   "metadata": {},
   "outputs": [],
   "source": [
    "data = data.drop_duplicates(subset='review')\n",
    "data = data.dropna(subset=['review'])"
   ]
  },
  {
   "cell_type": "code",
   "execution_count": 13,
   "id": "8aabc1d5",
   "metadata": {},
   "outputs": [],
   "source": [
    "lemmatizer = WordNetLemmatizer()\n",
    "stop_words = set(stopwords.words('english'))"
   ]
  },
  {
   "cell_type": "code",
   "execution_count": 14,
   "id": "3fe9eb30",
   "metadata": {},
   "outputs": [],
   "source": [
    "def preprocess_text(text):\n",
    "    text = text.lower()\n",
    "    text = text.translate(str.maketrans('', '', string.punctuation))\n",
    "    tokens = word_tokenize(text)\n",
    "    tokens = [lemmatizer.lemmatize(word) for word in tokens if word not in stop_words]\n",
    "    return ' '.join(tokens)"
   ]
  },
  {
   "cell_type": "code",
   "execution_count": 15,
   "id": "af0da0b8",
   "metadata": {},
   "outputs": [],
   "source": [
    "data['cleaned_review'] = data['review'].apply(preprocess_text)"
   ]
  },
  {
   "cell_type": "code",
   "execution_count": 16,
   "id": "e840beb3",
   "metadata": {},
   "outputs": [],
   "source": [
    "X = data['cleaned_review']\n",
    "y = data['sentiment']"
   ]
  },
  {
   "cell_type": "code",
   "execution_count": 17,
   "id": "c522ed0d",
   "metadata": {},
   "outputs": [],
   "source": [
    "X_train, X_test, y_train, y_test = train_test_split(X, y, test_size=0.2, random_state=42)"
   ]
  },
  {
   "cell_type": "code",
   "execution_count": 18,
   "id": "ab14a505",
   "metadata": {},
   "outputs": [],
   "source": [
    "vectorizer = TfidfVectorizer(max_features=5000)\n",
    "X_train_tfidf = vectorizer.fit_transform(X_train)\n",
    "X_test_tfidf = vectorizer.transform(X_test)"
   ]
  },
  {
   "cell_type": "code",
   "execution_count": 19,
   "id": "83f58c71",
   "metadata": {},
   "outputs": [],
   "source": [
    "models = {\n",
    "    'SVM': SVC(probability=True),\n",
    "    'Naive Bayes': MultinomialNB(),\n",
    "    'Logistic Regression': LogisticRegression(max_iter=1000)\n",
    "}"
   ]
  },
  {
   "cell_type": "code",
   "execution_count": 20,
   "id": "5b9e5123",
   "metadata": {},
   "outputs": [],
   "source": [
    "param_grids = {\n",
    "    'SVM': {\n",
    "        'C': [0.1, 1, 10],\n",
    "        'kernel': ['linear', 'rbf'],\n",
    "        'gamma': ['scale', 'auto']\n",
    "    },\n",
    "    'Naive Bayes': {\n",
    "        'alpha': [0.1, 0.5, 1.0, 2.0]\n",
    "    },\n",
    "    'Logistic Regression': {\n",
    "        'C': [0.1, 1, 10],\n",
    "        'solver': ['lbfgs', 'liblinear'],\n",
    "        'penalty': ['l2']\n",
    "    }\n",
    "}"
   ]
  },
  {
   "cell_type": "code",
   "execution_count": null,
   "id": "0e2c2208",
   "metadata": {},
   "outputs": [
    {
     "name": "stdout",
     "output_type": "stream",
     "text": [
      "\n",
      "Grid Search Results:\n",
      "\n",
      "Tuning SVM...\n",
      "Best parameters for SVM: {'C': 1, 'gamma': 'scale', 'kernel': 'linear'}\n",
      "Best cross-validation score: 0.9690\n",
      "\n",
      "Tuning Naive Bayes...\n",
      "Best parameters for Naive Bayes: {'alpha': 0.5}\n",
      "Best cross-validation score: 0.9467\n",
      "\n",
      "Tuning Logistic Regression...\n",
      "Best parameters for Logistic Regression: {'C': 10, 'penalty': 'l2', 'solver': 'lbfgs'}\n",
      "Best cross-validation score: 0.9690\n"
     ]
    }
   ],
   "source": [
    "best_models = {}\n",
    "print(\"\\nGrid Search Results:\")\n",
    "for name in models.keys():\n",
    "    print(f\"\\nTuning {name}...\")\n",
    "    grid_search = GridSearchCV(\n",
    "        models[name],\n",
    "        param_grids[name],\n",
    "        cv=5,\n",
    "        scoring='accuracy',\n",
    "        n_jobs=-1\n",
    "    )\n",
    "    grid_search.fit(X_train_tfidf, y_train)\n",
    "    \n",
    "    best_models[name] = grid_search.best_estimator_\n",
    "    print(f\"Best parameters for {name}: {grid_search.best_params_}\")\n",
    "    print(f\"Best cross-validation score: {grid_search.best_score_:.4f}\")"
   ]
  },
  {
   "cell_type": "code",
   "execution_count": null,
   "id": "3a94638e",
   "metadata": {},
   "outputs": [
    {
     "name": "stdout",
     "output_type": "stream",
     "text": [
      "\n",
      "Test Set Evaluation:\n",
      "\n",
      "SVM Test Results:\n",
      "Accuracy: 0.9768\n",
      "Classification Report:\n",
      "              precision    recall  f1-score   support\n",
      "\n",
      "    negative       0.96      0.98      0.97       106\n",
      "    positive       0.99      0.97      0.98       153\n",
      "\n",
      "    accuracy                           0.98       259\n",
      "   macro avg       0.97      0.98      0.98       259\n",
      "weighted avg       0.98      0.98      0.98       259\n",
      "\n",
      "\n",
      "Naive Bayes Test Results:\n",
      "Accuracy: 0.9382\n",
      "Classification Report:\n",
      "              precision    recall  f1-score   support\n",
      "\n",
      "    negative       0.96      0.89      0.92       106\n",
      "    positive       0.93      0.97      0.95       153\n",
      "\n",
      "    accuracy                           0.94       259\n",
      "   macro avg       0.94      0.93      0.94       259\n",
      "weighted avg       0.94      0.94      0.94       259\n",
      "\n",
      "\n",
      "Logistic Regression Test Results:\n",
      "Accuracy: 0.9807\n",
      "Classification Report:\n",
      "              precision    recall  f1-score   support\n",
      "\n",
      "    negative       0.98      0.97      0.98       106\n",
      "    positive       0.98      0.99      0.98       153\n",
      "\n",
      "    accuracy                           0.98       259\n",
      "   macro avg       0.98      0.98      0.98       259\n",
      "weighted avg       0.98      0.98      0.98       259\n",
      "\n"
     ]
    }
   ],
   "source": [
    "print(\"\\nTest Set Evaluation:\")\n",
    "best_model_name = None\n",
    "best_test_score = 0\n",
    "for name, model in best_models.items():\n",
    "    y_pred = model.predict(X_test_tfidf)\n",
    "    test_accuracy = accuracy_score(y_test, y_pred)\n",
    "    print(f\"\\n{name} Test Results:\")\n",
    "    print(f\"Accuracy: {test_accuracy:.4f}\")\n",
    "    print(\"Classification Report:\")\n",
    "    print(classification_report(y_test, y_pred, target_names=['negative', 'positive']))\n",
    "    \n",
    "    if test_accuracy > best_test_score:\n",
    "        best_test_score = test_accuracy\n",
    "        best_model_name = name"
   ]
  },
  {
   "cell_type": "code",
   "execution_count": 23,
   "id": "3234d410",
   "metadata": {},
   "outputs": [
    {
     "name": "stdout",
     "output_type": "stream",
     "text": [
      "\n",
      "Best model overall: Logistic Regression\n",
      "Best model and vectorBraizer saved successfully.\n"
     ]
    }
   ],
   "source": [
    "print(f\"\\nBest model overall: {best_model_name}\")\n",
    "joblib.dump(best_models[best_model_name], 'sentiment_model.joblib')\n",
    "joblib.dump(vectorizer, 'tfidf_vectorizer.joblib')\n",
    "print(\"Best model and vectorBraizer saved successfully.\")"
   ]
  }
 ],
 "metadata": {
  "kernelspec": {
   "display_name": "Python 3",
   "language": "python",
   "name": "python3"
  },
  "language_info": {
   "codemirror_mode": {
    "name": "ipython",
    "version": 3
   },
   "file_extension": ".py",
   "mimetype": "text/x-python",
   "name": "python",
   "nbconvert_exporter": "python",
   "pygments_lexer": "ipython3",
   "version": "3.12.2"
  }
 },
 "nbformat": 4,
 "nbformat_minor": 5
}
