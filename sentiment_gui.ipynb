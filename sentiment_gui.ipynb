{
 "cells": [
  {
   "cell_type": "code",
   "execution_count": null,
   "id": "6b9bb677",
   "metadata": {},
   "outputs": [],
   "source": [
    "import tkinter as tk\n",
    "from tkinter import messagebox\n",
    "import joblib\n",
    "import string\n",
    "import re\n",
    "from nltk.corpus import stopwords\n",
    "from nltk.tokenize import word_tokenize\n",
    "from nltk.stem import WordNetLemmatizer\n",
    "from spellchecker import SpellChecker\n",
    "import nltk"
   ]
  },
  {
   "cell_type": "code",
   "execution_count": 15,
   "id": "1fe8fd48",
   "metadata": {},
   "outputs": [
    {
     "name": "stderr",
     "output_type": "stream",
     "text": [
      "[nltk_data] Downloading package punkt to C:\\Users\\Ziad/nltk_data...\n",
      "[nltk_data]   Package punkt is already up-to-date!\n",
      "[nltk_data] Downloading package stopwords to\n",
      "[nltk_data]     C:\\Users\\Ziad/nltk_data...\n",
      "[nltk_data]   Package stopwords is already up-to-date!\n",
      "[nltk_data] Downloading package wordnet to C:\\Users\\Ziad/nltk_data...\n",
      "[nltk_data]   Package wordnet is already up-to-date!\n"
     ]
    },
    {
     "data": {
      "text/plain": [
       "True"
      ]
     },
     "execution_count": 15,
     "metadata": {},
     "output_type": "execute_result"
    }
   ],
   "source": [
    "nltk.download('punkt')\n",
    "nltk.download('stopwords')\n",
    "nltk.download('wordnet')"
   ]
  },
  {
   "cell_type": "code",
   "execution_count": 16,
   "id": "76ed73f3",
   "metadata": {},
   "outputs": [],
   "source": [
    "try:\n",
    "    model = joblib.load('sentiment_model.joblib')\n",
    "    vectorizer = joblib.load('tfidf_vectorizer.joblib')\n",
    "except FileNotFoundError:\n",
    "    messagebox.showerror(\"Error\", \"Model or vectorizer file not found. Please run train_model.py first.\")\n",
    "    exit()"
   ]
  },
  {
   "cell_type": "code",
   "execution_count": null,
   "id": "2a56091d",
   "metadata": {},
   "outputs": [],
   "source": [
    "lemmatizer = WordNetLemmatizer()\n",
    "stop_words = set(stopwords.words('english'))\n",
    "spell = SpellChecker()"
   ]
  },
  {
   "cell_type": "code",
   "execution_count": null,
   "id": "4b31d60e",
   "metadata": {},
   "outputs": [],
   "source": [
    "def preprocess_text(text):\n",
    "    text = text.lower()\n",
    "    text = text.translate(str.maketrans('', '', string.punctuation))\n",
    "    tokens = word_tokenize(text)\n",
    "    tokens = [lemmatizer.lemmatize(word) for word in tokens if word not in stop_words]\n",
    "    return ' '.join(tokens)"
   ]
  },
  {
   "cell_type": "code",
   "execution_count": null,
   "id": "5b5db5f7",
   "metadata": {},
   "outputs": [],
   "source": [
    "# Prediction function\n",
    "def predict_sentiment(review):\n",
    "    cleaned_review = preprocess_text(review)\n",
    "    review_vector = vectorizer.transform([cleaned_review])\n",
    "    prediction = model.predict(review_vector)\n",
    "    return 'positive' if prediction[0] == 1 else 'negative'"
   ]
  },
  {
   "cell_type": "code",
   "execution_count": null,
   "id": "3cae1603",
   "metadata": {},
   "outputs": [],
   "source": [
    "def analyze_review():\n",
    "    review = text_box.get(\"1.0\", tk.END).strip()\n",
    "    if not review:\n",
    "        result_label.config(text=\"Please enter a review.\")\n",
    "        return\n",
    "    try:\n",
    "        sentiment = predict_sentiment(review)\n",
    "        result_label.config(text=f\"Sentiment: {sentiment}\")\n",
    "    except Exception as e:\n",
    "        result_label.config(text=\"An error occurred during analysis.\")"
   ]
  },
  {
   "cell_type": "code",
   "execution_count": 21,
   "id": "ce580fc1",
   "metadata": {},
   "outputs": [
    {
     "data": {
      "text/plain": [
       "''"
      ]
     },
     "execution_count": 21,
     "metadata": {},
     "output_type": "execute_result"
    }
   ],
   "source": [
    "window = tk.Tk()\n",
    "window.title(\"Sentiment Analysis\")\n",
    "window.geometry(\"400x400\")"
   ]
  },
  {
   "cell_type": "code",
   "execution_count": null,
   "id": "d992930b",
   "metadata": {},
   "outputs": [],
   "source": [
    "instructions = tk.Label(window, text=\"Enter your movie review below:\")\n",
    "instructions.pack(pady=10)"
   ]
  },
  {
   "cell_type": "code",
   "execution_count": null,
   "id": "c9e668a6",
   "metadata": {},
   "outputs": [],
   "source": [
    "text_box = tk.Text(window, height=10, width=50)\n",
    "text_box.pack()"
   ]
  },
  {
   "cell_type": "code",
   "execution_count": null,
   "id": "ce4018a6",
   "metadata": {},
   "outputs": [],
   "source": [
    "analyze_button = tk.Button(window, text=\"Analyze\", command=analyze_review)\n",
    "analyze_button.pack(pady=10)"
   ]
  },
  {
   "cell_type": "code",
   "execution_count": null,
   "id": "070d7c7a",
   "metadata": {},
   "outputs": [],
   "source": [
    "result_label = tk.Label(window, text=\"\")\n",
    "result_label.pack()"
   ]
  },
  {
   "cell_type": "code",
   "execution_count": null,
   "id": "aebdc0d9",
   "metadata": {},
   "outputs": [],
   "source": [
    "window.mainloop()"
   ]
  }
 ],
 "metadata": {
  "kernelspec": {
   "display_name": "Python 3",
   "language": "python",
   "name": "python3"
  },
  "language_info": {
   "codemirror_mode": {
    "name": "ipython",
    "version": 3
   },
   "file_extension": ".py",
   "mimetype": "text/x-python",
   "name": "python",
   "nbconvert_exporter": "python",
   "pygments_lexer": "ipython3",
   "version": "3.12.2"
  }
 },
 "nbformat": 4,
 "nbformat_minor": 5
}
